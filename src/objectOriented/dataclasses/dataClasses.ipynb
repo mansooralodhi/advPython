{
 "cells": [
  {
   "cell_type": "markdown",
   "metadata": {},
   "source": [
    "## Understanding Data Classes "
   ]
  },
  {
   "cell_type": "markdown",
   "metadata": {},
   "source": [
    "Please refer to \"src/objectOriented/variableScope/variableScope.ipynb\" first if you are unsure about the difference between global (class) variables  and local (instance) variables. Quick recap of global (class) and local (instance) variable::    \n",
    "\n",
    "    i. class variables needs to be initialized in order to be accessed.\n",
    "    ii. local variables with same name have precedence over global variables."
   ]
  },
  {
   "cell_type": "markdown",
   "metadata": {},
   "source": [
    "### 1 The unique case of uninitialized global variables"
   ]
  },
  {
   "cell_type": "code",
   "execution_count": 2,
   "metadata": {},
   "outputs": [],
   "source": [
    "class Book:\n",
    "    name: str\n",
    "    pages: int\n",
    "    edition: int = 2010"
   ]
  },
  {
   "cell_type": "markdown",
   "metadata": {},
   "source": [
    "#### 1.1 Directly accessing global variables"
   ]
  },
  {
   "cell_type": "code",
   "execution_count": 3,
   "metadata": {},
   "outputs": [
    {
     "ename": "AttributeError",
     "evalue": "type object 'Book' has no attribute 'name'",
     "output_type": "error",
     "traceback": [
      "\u001b[1;31m---------------------------------------------------------------------------\u001b[0m",
      "\u001b[1;31mAttributeError\u001b[0m                            Traceback (most recent call last)",
      "Cell \u001b[1;32mIn[3], line 1\u001b[0m\n\u001b[1;32m----> 1\u001b[0m \u001b[43mBook\u001b[49m\u001b[38;5;241;43m.\u001b[39;49m\u001b[43mname\u001b[49m, Book\u001b[38;5;241m.\u001b[39mpages, Book\u001b[38;5;241m.\u001b[39medition\n",
      "\u001b[1;31mAttributeError\u001b[0m: type object 'Book' has no attribute 'name'"
     ]
    }
   ],
   "source": [
    "Book.name, Book.pages, Book.edition"
   ]
  },
  {
   "cell_type": "markdown",
   "metadata": {},
   "source": [
    "**Observation:** from the above error it is witnessed that global variable can only be accessed by class if they are initialized."
   ]
  },
  {
   "cell_type": "markdown",
   "metadata": {},
   "source": [
    "#### 1.2 Indirectly accessing global variables"
   ]
  },
  {
   "cell_type": "markdown",
   "metadata": {},
   "source": [
    "Now lets try to access global variables *(indirectly)* using class instance. We have two cases here:    \n",
    "> i. Without initialization     \n",
    "> ii. With initialization"
   ]
  },
  {
   "cell_type": "markdown",
   "metadata": {},
   "source": [
    "Case I: Without initialization"
   ]
  },
  {
   "cell_type": "code",
   "execution_count": 4,
   "metadata": {},
   "outputs": [
    {
     "ename": "AttributeError",
     "evalue": "'Book' object has no attribute 'name'",
     "output_type": "error",
     "traceback": [
      "\u001b[1;31m---------------------------------------------------------------------------\u001b[0m",
      "\u001b[1;31mAttributeError\u001b[0m                            Traceback (most recent call last)",
      "Cell \u001b[1;32mIn[4], line 2\u001b[0m\n\u001b[0;32m      1\u001b[0m bk \u001b[38;5;241m=\u001b[39m Book()\n\u001b[1;32m----> 2\u001b[0m \u001b[43mbk\u001b[49m\u001b[38;5;241;43m.\u001b[39;49m\u001b[43mname\u001b[49m, bk\u001b[38;5;241m.\u001b[39mpages, bk\u001b[38;5;241m.\u001b[39medition \n",
      "\u001b[1;31mAttributeError\u001b[0m: 'Book' object has no attribute 'name'"
     ]
    }
   ],
   "source": [
    "bk = Book()\n",
    "bk.name, bk.pages, bk.edition "
   ]
  },
  {
   "cell_type": "markdown",
   "metadata": {},
   "source": [
    "Case II: With initialization"
   ]
  },
  {
   "cell_type": "code",
   "execution_count": 5,
   "metadata": {},
   "outputs": [
    {
     "ename": "TypeError",
     "evalue": "Book() takes no arguments",
     "output_type": "error",
     "traceback": [
      "\u001b[1;31m---------------------------------------------------------------------------\u001b[0m",
      "\u001b[1;31mTypeError\u001b[0m                                 Traceback (most recent call last)",
      "Cell \u001b[1;32mIn[5], line 1\u001b[0m\n\u001b[1;32m----> 1\u001b[0m bk \u001b[38;5;241m=\u001b[39m \u001b[43mBook\u001b[49m\u001b[43m(\u001b[49m\u001b[38;5;124;43m\"\u001b[39;49m\u001b[38;5;124;43manimal farm\u001b[39;49m\u001b[38;5;124;43m\"\u001b[39;49m\u001b[43m,\u001b[49m\u001b[43m \u001b[49m\u001b[38;5;241;43m200\u001b[39;49m\u001b[43m)\u001b[49m\n\u001b[0;32m      2\u001b[0m bk\u001b[38;5;241m.\u001b[39mname, bk\u001b[38;5;241m.\u001b[39mpages, bk\u001b[38;5;241m.\u001b[39medition \n",
      "\u001b[1;31mTypeError\u001b[0m: Book() takes no arguments"
     ]
    }
   ],
   "source": [
    "bk = Book(\"animal farm\", 200)\n",
    "bk.name, bk.pages, bk.edition "
   ]
  },
  {
   "cell_type": "markdown",
   "metadata": {},
   "source": [
    "**Observation:** from the above error it is witnessed that we can't access global variable even *(indirectly)* if they have not been initialized."
   ]
  },
  {
   "cell_type": "markdown",
   "metadata": {},
   "source": [
    "### 2. Dataclass decorator"
   ]
  },
  {
   "cell_type": "code",
   "execution_count": 7,
   "metadata": {},
   "outputs": [],
   "source": [
    "from dataclasses import dataclass\n",
    "\n",
    "@dataclass\n",
    "class Book:\n",
    "    name: str\n",
    "    pages: int\n",
    "    edition: int = 2010"
   ]
  },
  {
   "cell_type": "markdown",
   "metadata": {},
   "source": [
    "#### 2.1 Directly accessing global variables"
   ]
  },
  {
   "cell_type": "code",
   "execution_count": 8,
   "metadata": {},
   "outputs": [
    {
     "ename": "AttributeError",
     "evalue": "type object 'Book' has no attribute 'name'",
     "output_type": "error",
     "traceback": [
      "\u001b[1;31m---------------------------------------------------------------------------\u001b[0m",
      "\u001b[1;31mAttributeError\u001b[0m                            Traceback (most recent call last)",
      "Cell \u001b[1;32mIn[8], line 1\u001b[0m\n\u001b[1;32m----> 1\u001b[0m \u001b[43mBook\u001b[49m\u001b[38;5;241;43m.\u001b[39;49m\u001b[43mname\u001b[49m, Book\u001b[38;5;241m.\u001b[39mpages, Book\u001b[38;5;241m.\u001b[39medition\n",
      "\u001b[1;31mAttributeError\u001b[0m: type object 'Book' has no attribute 'name'"
     ]
    }
   ],
   "source": [
    "Book.name, Book.pages, Book.edition"
   ]
  },
  {
   "cell_type": "markdown",
   "metadata": {},
   "source": [
    "#### 2.2 Indirectly accessing global variables"
   ]
  },
  {
   "cell_type": "markdown",
   "metadata": {},
   "source": [
    "Now lets try to access global variables *(indirectly)* using class instance. We have two cases here:    \n",
    "> i. Without initialization     \n",
    "> ii. With initialization"
   ]
  },
  {
   "cell_type": "markdown",
   "metadata": {},
   "source": [
    "Case I: Without initialization"
   ]
  },
  {
   "cell_type": "code",
   "execution_count": 9,
   "metadata": {},
   "outputs": [
    {
     "ename": "TypeError",
     "evalue": "Book.__init__() missing 2 required positional arguments: 'name' and 'pages'",
     "output_type": "error",
     "traceback": [
      "\u001b[1;31m---------------------------------------------------------------------------\u001b[0m",
      "\u001b[1;31mTypeError\u001b[0m                                 Traceback (most recent call last)",
      "Cell \u001b[1;32mIn[9], line 1\u001b[0m\n\u001b[1;32m----> 1\u001b[0m bk \u001b[38;5;241m=\u001b[39m \u001b[43mBook\u001b[49m\u001b[43m(\u001b[49m\u001b[43m)\u001b[49m\n\u001b[0;32m      2\u001b[0m bk\u001b[38;5;241m.\u001b[39mname, bk\u001b[38;5;241m.\u001b[39mpages, bk\u001b[38;5;241m.\u001b[39medition \n",
      "\u001b[1;31mTypeError\u001b[0m: Book.__init__() missing 2 required positional arguments: 'name' and 'pages'"
     ]
    }
   ],
   "source": [
    "bk = Book()\n",
    "bk.name, bk.pages, bk.edition "
   ]
  },
  {
   "cell_type": "markdown",
   "metadata": {},
   "source": [
    "Case II: With initialization"
   ]
  },
  {
   "cell_type": "code",
   "execution_count": 10,
   "metadata": {},
   "outputs": [
    {
     "data": {
      "text/plain": [
       "('animal farm', 200, 2010)"
      ]
     },
     "execution_count": 10,
     "metadata": {},
     "output_type": "execute_result"
    }
   ],
   "source": [
    "bk = Book(\"animal farm\", 200)\n",
    "bk.name, bk.pages, bk.edition "
   ]
  },
  {
   "cell_type": "markdown",
   "metadata": {},
   "source": [
    "Note: In above cell we created a class instance that now results in local variables.\n",
    "\n",
    "Note, the difference between the results of section 1.2 and section 2.2.      \n",
    "\n",
    "**So what does decorating a class with dataclass do to produce the given results ?\n",
    "Below is the equivalent of decorating a class with dataclass.**"
   ]
  },
  {
   "cell_type": "code",
   "execution_count": 11,
   "metadata": {},
   "outputs": [],
   "source": [
    "from dataclasses import dataclass\n",
    "\n",
    "@dataclass\n",
    "class Book:\n",
    "    name: str\n",
    "    pages: int\n",
    "    edition: int = 2010"
   ]
  },
  {
   "cell_type": "code",
   "execution_count": 12,
   "metadata": {},
   "outputs": [],
   "source": [
    "class Book:   \n",
    "    def __init__(self, name: str, pages: int, edition: int = 2010 ) -> None:\n",
    "        self.name = name\n",
    "        self.pages = pages\n",
    "        self.edition = edition"
   ]
  },
  {
   "cell_type": "markdown",
   "metadata": {},
   "source": [
    "**The above two cells are same in terms of logic and functionality. Hence, now we now know what the decorator dataclass does for us.    \n",
    "The decorator automatically adds the relevent __init__ signature in our class without explicitly mention.**"
   ]
  },
  {
   "cell_type": "markdown",
   "metadata": {},
   "source": [
    "#### 2.3 Parameterized dataclass decorator"
   ]
  },
  {
   "cell_type": "code",
   "execution_count": 13,
   "metadata": {},
   "outputs": [],
   "source": [
    "from dataclasses import dataclass\n",
    "\n",
    "@dataclass()\n",
    "class Book:\n",
    "    name: str\n",
    "    pages: int\n",
    "    edition: int = 2010"
   ]
  },
  {
   "cell_type": "markdown",
   "metadata": {},
   "source": [
    "The default parameters for the above decorator are as mentioned below:  \n",
    "-   init=True,   ------------------- __init__() method will be generated.\n",
    "-   repr=True,   ----------------- __repr__() method will be generated\n",
    "-   eq=True,     ------------------- __eq__() method will be generated.\n",
    "-   order=False, \n",
    "-   unsafe_hash=False, \n",
    "-   frozen=False,\n",
    "-   match_args=True, \n",
    "-   kw_only=False, \n",
    "-   slots=False, ---------------- __slots__ attribute will be generated (**exceptionally: a new class will be returned by the decorator**)\n",
    "-   weakref_slot=False"
   ]
  },
  {
   "cell_type": "code",
   "execution_count": 14,
   "metadata": {},
   "outputs": [],
   "source": [
    "from dataclasses import dataclass\n",
    "\n",
    "@dataclass(init=True, repr=True, eq=True, order=False, unsafe_hash=False, frozen=False,\n",
    "           match_args=True, kw_only=False, slots=False, weakref_slot=False)\n",
    "class Book:\n",
    "    name: str\n",
    "    pages: int\n",
    "    edition: int = 2010"
   ]
  },
  {
   "cell_type": "markdown",
   "metadata": {},
   "source": [
    "We now know that decorator dataclasses creater dunder methods for us, but what if we too generate one ?"
   ]
  },
  {
   "cell_type": "code",
   "execution_count": 15,
   "metadata": {},
   "outputs": [],
   "source": [
    "from dataclasses import dataclass\n",
    "\n",
    "@dataclass\n",
    "class Book:\n",
    "    name: str\n",
    "    pages: int\n",
    "    edition: int = 2010\n",
    "    \n",
    "    def __init__(self, name, pages = 10):\n",
    "        self.name = name\n",
    "        self.pages = pages"
   ]
  },
  {
   "cell_type": "code",
   "execution_count": 16,
   "metadata": {},
   "outputs": [],
   "source": [
    "bk = Book(\"animal farm\")"
   ]
  },
  {
   "cell_type": "code",
   "execution_count": 17,
   "metadata": {},
   "outputs": [
    {
     "data": {
      "text/plain": [
       "('animal farm', 10, 2010)"
      ]
     },
     "execution_count": 17,
     "metadata": {},
     "output_type": "execute_result"
    }
   ],
   "source": [
    "bk.name, bk.pages, bk.edition"
   ]
  },
  {
   "cell_type": "markdown",
   "metadata": {},
   "source": [
    "Note: if we have a custom __ init __ method, then its parameters (instance variables) will supercede the class variables."
   ]
  },
  {
   "cell_type": "code",
   "execution_count": 18,
   "metadata": {},
   "outputs": [
    {
     "data": {
      "text/plain": [
       "2010"
      ]
     },
     "execution_count": 18,
     "metadata": {},
     "output_type": "execute_result"
    }
   ],
   "source": [
    "Book.edition"
   ]
  },
  {
   "cell_type": "markdown",
   "metadata": {},
   "source": [
    "### 3. Dataclasses features"
   ]
  },
  {
   "cell_type": "markdown",
   "metadata": {},
   "source": [
    "#### 3.1 field "
   ]
  },
  {
   "cell_type": "markdown",
   "metadata": {},
   "source": [
    "We know that global (class variables) require initialization (default value) in order to be considered class attributes. Neverthless,   \n",
    "dataclass can generate a default value using a call to data-structure. Please view the example below:"
   ]
  },
  {
   "cell_type": "code",
   "execution_count": 19,
   "metadata": {},
   "outputs": [],
   "source": [
    "import dataclasses\n",
    "from dataclasses import dataclass\n",
    "\n",
    "@dataclass\n",
    "class Library:  \n",
    "    yearsOld: int\n",
    "    collection: list[int] = dataclasses.field(default_factory=list)"
   ]
  },
  {
   "cell_type": "code",
   "execution_count": 20,
   "metadata": {},
   "outputs": [
    {
     "data": {
      "text/plain": [
       "Library(yearsOld=10, collection=[])"
      ]
     },
     "execution_count": 20,
     "metadata": {},
     "output_type": "execute_result"
    }
   ],
   "source": [
    "lib = Library(10,)\n",
    "lib"
   ]
  },
  {
   "cell_type": "markdown",
   "metadata": {},
   "source": [
    "Note: Now we can create an instance of dataclass without initializing the \"collection\" parameter. Furthermore, we can define a \"field\" as keyword-only, etc."
   ]
  },
  {
   "cell_type": "markdown",
   "metadata": {},
   "source": [
    "However, **field** is important if we are using mutable datastructure that could be accessed by multiple class instances. To further understand the significance of databasees.field for default values please visit \"Mutable default values\" section on:   \n",
    "https://docs.python.org/3/library/dataclasses.html"
   ]
  },
  {
   "cell_type": "markdown",
   "metadata": {},
   "source": [
    "#### 3.2 asdict"
   ]
  },
  {
   "cell_type": "markdown",
   "metadata": {},
   "source": [
    "**Note**: This feature is one of a major reason to use dataclass. It returns all attibutes and their values as dictionary datastructure which is difficult  \n",
    "to do using standard class. The returned dictionary can be understood with reference to pyTrees of Jax."
   ]
  },
  {
   "cell_type": "code",
   "execution_count": 21,
   "metadata": {},
   "outputs": [],
   "source": [
    "from dataclasses import asdict\n",
    "\n",
    "@dataclass\n",
    "class Book:\n",
    "     name: str\n",
    "     pages: int"
   ]
  },
  {
   "cell_type": "code",
   "execution_count": 22,
   "metadata": {},
   "outputs": [
    {
     "data": {
      "text/plain": [
       "Book(name='animal farm', pages=200)"
      ]
     },
     "execution_count": 22,
     "metadata": {},
     "output_type": "execute_result"
    }
   ],
   "source": [
    "bk = Book(\"animal farm\", 200)\n",
    "bk"
   ]
  },
  {
   "cell_type": "code",
   "execution_count": 23,
   "metadata": {},
   "outputs": [
    {
     "data": {
      "text/plain": [
       "{'name': 'animal farm', 'pages': 200}"
      ]
     },
     "execution_count": 23,
     "metadata": {},
     "output_type": "execute_result"
    }
   ],
   "source": [
    "asdict(bk)"
   ]
  },
  {
   "cell_type": "code",
   "execution_count": 25,
   "metadata": {},
   "outputs": [],
   "source": [
    "assert(asdict(bk)) == {'name': 'animal farm', 'pages': 200}"
   ]
  },
  {
   "cell_type": "markdown",
   "metadata": {},
   "source": [
    "*In addition, asdict, functionality is not limited to current class, rather it can provide attribute-value pair of all nested dataclass-es instances, just like Jax pyTree !*"
   ]
  },
  {
   "cell_type": "code",
   "execution_count": 38,
   "metadata": {},
   "outputs": [],
   "source": [
    "@dataclass\n",
    "class Collection:\n",
    "    books: list[Book] \n",
    "    idNr: int = 10"
   ]
  },
  {
   "cell_type": "code",
   "execution_count": 39,
   "metadata": {},
   "outputs": [],
   "source": [
    "bk1 = Book(\"animal farm\", 200)\n",
    "bk2 = Book(\"cime and punishment\", 1000)"
   ]
  },
  {
   "cell_type": "code",
   "execution_count": 40,
   "metadata": {},
   "outputs": [
    {
     "data": {
      "text/plain": [
       "Collection(books=[Book(name='animal farm', pages=200), Book(name='cime and punishment', pages=1000)], idNr=10)"
      ]
     },
     "execution_count": 40,
     "metadata": {},
     "output_type": "execute_result"
    }
   ],
   "source": [
    "myCollection = Collection([bk1, bk2])\n",
    "myCollection"
   ]
  },
  {
   "cell_type": "code",
   "execution_count": 41,
   "metadata": {},
   "outputs": [
    {
     "data": {
      "text/plain": [
       "{'books': [{'name': 'animal farm', 'pages': 200},\n",
       "  {'name': 'cime and punishment', 'pages': 1000}],\n",
       " 'idNr': 10}"
      ]
     },
     "execution_count": 41,
     "metadata": {},
     "output_type": "execute_result"
    }
   ],
   "source": [
    "asdict(myCollection)"
   ]
  },
  {
   "cell_type": "markdown",
   "metadata": {},
   "source": [
    "*See how nicely dataclasses \"asdict\" easily converts all nested dataclass instances attribute-value pairs into a nested dictionary as key-value pairs.*"
   ]
  },
  {
   "cell_type": "markdown",
   "metadata": {},
   "source": [
    "#### 3.3 astuple"
   ]
  },
  {
   "cell_type": "markdown",
   "metadata": {},
   "source": [
    "This function behave similar to asdict, except that now it returns only the values and not their keys/attributes. Hence, we will use the objects from section 3.2 for demonstration below:"
   ]
  },
  {
   "cell_type": "code",
   "execution_count": 42,
   "metadata": {},
   "outputs": [],
   "source": [
    "from dataclasses import astuple"
   ]
  },
  {
   "cell_type": "code",
   "execution_count": 43,
   "metadata": {},
   "outputs": [
    {
     "data": {
      "text/plain": [
       "Book(name='animal farm', pages=200)"
      ]
     },
     "execution_count": 43,
     "metadata": {},
     "output_type": "execute_result"
    }
   ],
   "source": [
    "bk"
   ]
  },
  {
   "cell_type": "code",
   "execution_count": 44,
   "metadata": {},
   "outputs": [
    {
     "data": {
      "text/plain": [
       "('animal farm', 200)"
      ]
     },
     "execution_count": 44,
     "metadata": {},
     "output_type": "execute_result"
    }
   ],
   "source": [
    "astuple(bk)"
   ]
  },
  {
   "cell_type": "code",
   "execution_count": 45,
   "metadata": {},
   "outputs": [
    {
     "data": {
      "text/plain": [
       "Collection(books=[Book(name='animal farm', pages=200), Book(name='cime and punishment', pages=1000)], idNr=10)"
      ]
     },
     "execution_count": 45,
     "metadata": {},
     "output_type": "execute_result"
    }
   ],
   "source": [
    "myCollection"
   ]
  },
  {
   "cell_type": "code",
   "execution_count": 46,
   "metadata": {},
   "outputs": [
    {
     "data": {
      "text/plain": [
       "([('animal farm', 200), ('cime and punishment', 1000)], 10)"
      ]
     },
     "execution_count": 46,
     "metadata": {},
     "output_type": "execute_result"
    }
   ],
   "source": [
    "astuple(myCollection)"
   ]
  },
  {
   "cell_type": "markdown",
   "metadata": {},
   "source": [
    "#### 3.4 ... etc."
   ]
  },
  {
   "cell_type": "markdown",
   "metadata": {},
   "source": [
    "addition features of dataclasses worth reading could be:\n",
    "-   dataclassses.replace()\n",
    "-   dataclasses.is_dataclass()\n",
    "-   **dataclasses.KW_ONLY**\n",
    "-   typing.ClassVar\n",
    "-   dataclasses.InitVar"
   ]
  },
  {
   "cell_type": "markdown",
   "metadata": {},
   "source": [
    "#### 3.4 __ post_init __"
   ]
  },
  {
   "cell_type": "markdown",
   "metadata": {},
   "source": [
    "This dunder method is called by the auto generated __ init __() method by the dataclass decorator. Its use cases are as below:    \n",
    "> i. Derive new variables/attributes from basic ones.   \n",
    "> ii. Call __ init __() of parent class (if parent class in not a dataclass)."
   ]
  },
  {
   "cell_type": "markdown",
   "metadata": {},
   "source": [
    "##### 3.4.1 Derive fields"
   ]
  },
  {
   "cell_type": "code",
   "execution_count": 60,
   "metadata": {},
   "outputs": [],
   "source": [
    "from dataclasses import dataclass, field\n",
    "\n",
    "@dataclass\n",
    "class C:\n",
    "    a: float\n",
    "    b: float\n",
    "    c: float = field(init=False)\n",
    "\n",
    "    def __post_init__(self):\n",
    "        self.c = self.a + self.b\n",
    "\n",
    "color = C(2, 3)\n",
    "color"
   ]
  },
  {
   "cell_type": "code",
   "execution_count": 65,
   "metadata": {},
   "outputs": [
    {
     "data": {
      "text/plain": [
       "C(a=2, b=3, c=5)"
      ]
     },
     "execution_count": 65,
     "metadata": {},
     "output_type": "execute_result"
    }
   ],
   "source": [
    "from dataclasses import dataclass, field\n",
    "\n",
    "@dataclass\n",
    "class C:\n",
    "    a: float\n",
    "    b: float\n",
    "    c: int = 10 \n",
    "\n",
    "    def __post_init__(self):\n",
    "        self.c = self.a + self.b\n",
    "\n",
    "color = C(2, 3)\n",
    "color"
   ]
  },
  {
   "cell_type": "markdown",
   "metadata": {},
   "source": [
    "**CAUTION**: We need to create a field as class variable even if it is to be derived/overwritten later.     \n",
    "Below is the case if we don't create a class variable before __ post_init __ ():"
   ]
  },
  {
   "cell_type": "code",
   "execution_count": 64,
   "metadata": {},
   "outputs": [
    {
     "data": {
      "text/plain": [
       "C(a=2, b=3)"
      ]
     },
     "execution_count": 64,
     "metadata": {},
     "output_type": "execute_result"
    }
   ],
   "source": [
    "from dataclasses import dataclass, field\n",
    "\n",
    "@dataclass\n",
    "class C:\n",
    "    a: float\n",
    "    b: float\n",
    "\n",
    "    def __post_init__(self):\n",
    "        self.c = self.a + self.b\n",
    "\n",
    "color = C(2, 3)\n",
    "color"
   ]
  },
  {
   "cell_type": "markdown",
   "metadata": {},
   "source": [
    "**Notice**: As you can see, though, we have got a and b as instance attributes but we couldn't create a variable c !"
   ]
  },
  {
   "cell_type": "markdown",
   "metadata": {},
   "source": [
    "##### 3.4.2 Call parent __ init __ ()"
   ]
  },
  {
   "cell_type": "code",
   "execution_count": 68,
   "metadata": {},
   "outputs": [],
   "source": [
    "class Rectangle:\n",
    "    def __init__(self, height, width):\n",
    "      self.height = height\n",
    "      self.width = width\n",
    "\n",
    "@dataclass\n",
    "class Square(Rectangle):\n",
    "    side: float\n",
    "\n",
    "    def __post_init__(self):\n",
    "        super().__init__(self.side, self.side)"
   ]
  },
  {
   "cell_type": "markdown",
   "metadata": {},
   "source": [
    "The __ init __() method generated by @dataclass does not call base class __ init __() methods. If the base class has an __ init __() method that has to be called, it is common to call this method in a __ post_init __() method. Note, however, that in general the dataclass-generated __ init __() methods don’t need to be called, since the derived dataclass will take care of initializing all fields of any base class that is a dataclass itself."
   ]
  },
  {
   "cell_type": "code",
   "execution_count": 69,
   "metadata": {},
   "outputs": [],
   "source": [
    "class C:\n",
    "    x = []\n",
    "    def add(self, element):\n",
    "        self.x.append(element)\n",
    "\n",
    "o1 = C()\n",
    "o2 = C()\n",
    "o1.add(1)\n",
    "o2.add(2)\n",
    "assert o1.x == [1, 2]\n",
    "assert o1.x is o2.x"
   ]
  }
 ],
 "metadata": {
  "kernelspec": {
   "display_name": "envTest",
   "language": "python",
   "name": "python3"
  },
  "language_info": {
   "codemirror_mode": {
    "name": "ipython",
    "version": 3
   },
   "file_extension": ".py",
   "mimetype": "text/x-python",
   "name": "python",
   "nbconvert_exporter": "python",
   "pygments_lexer": "ipython3",
   "version": "3.12.0b4"
  }
 },
 "nbformat": 4,
 "nbformat_minor": 2
}
